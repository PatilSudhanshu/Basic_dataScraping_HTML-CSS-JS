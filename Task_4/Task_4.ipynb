{
 "cells": [
  {
   "cell_type": "markdown",
   "id": "d46db3da-816d-4ace-9781-f0d9892ee393",
   "metadata": {},
   "source": [
    "# PUT method\n",
    "The PUT method in HTTP is used to update a resource on the server. It is often used when you want to update an existing resource with new data. The PUT method usually requires you to specify the complete resource you want to update.\n",
    "\n",
    "* Syntax:\n",
    "requests.put(url, params={key: value}, args)"
   ]
  },
  {
   "cell_type": "code",
   "execution_count": 27,
   "id": "e08ff2db-f53c-4ef3-93f8-30640d153ed1",
   "metadata": {},
   "outputs": [],
   "source": [
    "import requests as rq"
   ]
  },
  {
   "cell_type": "code",
   "execution_count": 41,
   "id": "4016f97b-0c8b-426b-97d9-301bd72f3fd8",
   "metadata": {},
   "outputs": [
    {
     "name": "stdout",
     "output_type": "stream",
     "text": [
      "<Response [200]>\n",
      "\n",
      "b'{\\n  \"args\": {}, \\n  \"data\": \"\", \\n  \"files\": {}, \\n  \"form\": {}, \\n  \"headers\": {\\n    \"Accept\": \"*/*\", \\n    \"Accept-Encoding\": \"gzip, deflate, br, zstd\", \\n    \"Content-Length\": \"0\", \\n    \"Host\": \"httpbin.org\", \\n    \"User-Agent\": \"Mozilla/5.0 (Windows NT 10.0; Win64; x64) AppleWebKit/537.36 (KHTML, like Gecko) Chrome/128.0.0.0 Safari/537.36\", \\n    \"Username\": \"AAAAAAAAAAAAA\", \\n    \"X-Amzn-Trace-Id\": \"Root=1-66e52a3f-69d529777e56e8b75a2b470a\"\\n  }, \\n  \"json\": null, \\n  \"origin\": \"103.73.214.168\", \\n  \"url\": \"https://httpbin.org/put\"\\n}\\n'\n",
      "\n",
      "{'Date': 'Sat, 14 Sep 2024 06:16:31 GMT', 'Content-Type': 'application/json', 'Content-Length': '532', 'Connection': 'keep-alive', 'Server': 'gunicorn/19.9.0', 'Access-Control-Allow-Origin': '*', 'Access-Control-Allow-Credentials': 'true'}\n",
      "\n",
      "{\n",
      "  \"args\": {}, \n",
      "  \"data\": \"\", \n",
      "  \"files\": {}, \n",
      "  \"form\": {}, \n",
      "  \"headers\": {\n",
      "    \"Accept\": \"*/*\", \n",
      "    \"Accept-Encoding\": \"gzip, deflate, br, zstd\", \n",
      "    \"Content-Length\": \"0\", \n",
      "    \"Host\": \"httpbin.org\", \n",
      "    \"User-Agent\": \"Mozilla/5.0 (Windows NT 10.0; Win64; x64) AppleWebKit/537.36 (KHTML, like Gecko) Chrome/128.0.0.0 Safari/537.36\", \n",
      "    \"Username\": \"AAAAAAAAAAAAA\", \n",
      "    \"X-Amzn-Trace-Id\": \"Root=1-66e52a3f-69d529777e56e8b75a2b470a\"\n",
      "  }, \n",
      "  \"json\": null, \n",
      "  \"origin\": \"103.73.214.168\", \n",
      "  \"url\": \"https://httpbin.org/put\"\n",
      "}\n",
      "\n",
      "\n",
      "{'args': {}, 'data': '', 'files': {}, 'form': {}, 'headers': {'Accept': '*/*', 'Accept-Encoding': 'gzip, deflate, br, zstd', 'Content-Length': '0', 'Host': 'httpbin.org', 'User-Agent': 'Mozilla/5.0 (Windows NT 10.0; Win64; x64) AppleWebKit/537.36 (KHTML, like Gecko) Chrome/128.0.0.0 Safari/537.36', 'Username': 'AAAAAAAAAAAAA', 'X-Amzn-Trace-Id': 'Root=1-66e52a3f-69d529777e56e8b75a2b470a'}, 'json': None, 'origin': '103.73.214.168', 'url': 'https://httpbin.org/put'}\n"
     ]
    }
   ],
   "source": [
    "url = 'https://httpbin.org/put'\n",
    "header = {\n",
    "    'user-agent':\n",
    "'Mozilla/5.0 (Windows NT 10.0; Win64; x64) AppleWebKit/537.36 (KHTML, like Gecko) Chrome/128.0.0.0 Safari/537.36',\n",
    "    'username':'AAAAAAAAAAAAA'\n",
    "}\n",
    "# Making a PUT request\n",
    "r = rq.put(url = url, headers = header)\n",
    "\n",
    "# check status code for response received\n",
    "# success code - 200\n",
    "print(r)\n",
    "print()\n",
    "# print content of request\n",
    "print(r.content)\n",
    "print()\n",
    "# print headers of request\n",
    "print(r.headers)\n",
    "print()\n",
    "print(r.text)\n",
    "print()\n",
    "print(r.json())"
   ]
  },
  {
   "cell_type": "code",
   "execution_count": 47,
   "id": "8c1512ca-d12e-44db-99cf-3577bd489f95",
   "metadata": {},
   "outputs": [
    {
     "name": "stdout",
     "output_type": "stream",
     "text": [
      "<Response [200]>\n",
      "\n",
      "b'{\\n  \"args\": {}, \\n  \"data\": \"\", \\n  \"files\": {}, \\n  \"form\": {\\n    \"Age\": \"82\", \\n    \"Gender\": \"Male\", \\n    \"Name\": \"Sudhanshu Patil\"\\n  }, \\n  \"headers\": {\\n    \"Accept\": \"*/*\", \\n    \"Accept-Encoding\": \"gzip, deflate, br, zstd\", \\n    \"Content-Length\": \"39\", \\n    \"Content-Type\": \"application/x-www-form-urlencoded\", \\n    \"Host\": \"httpbin.org\", \\n    \"User-Agent\": \"Mozilla/5.0 (Windows NT 10.0; Win64; x64) AppleWebKit/537.36 (KHTML, like Gecko) Chrome/128.0.0.0 Safari/537.36\", \\n    \"Username\": \"AAAAAAAAAAAAA\", \\n    \"X-Amzn-Trace-Id\": \"Root=1-66e52b22-6a915d35246404d85eb4e5d1\"\\n  }, \\n  \"json\": null, \\n  \"origin\": \"103.73.214.168\", \\n  \"url\": \"https://httpbin.org/put\"\\n}\\n'\n",
      "\n",
      "{'Date': 'Sat, 14 Sep 2024 06:20:18 GMT', 'Content-Type': 'application/json', 'Content-Length': '665', 'Connection': 'keep-alive', 'Server': 'gunicorn/19.9.0', 'Access-Control-Allow-Origin': '*', 'Access-Control-Allow-Credentials': 'true'}\n",
      "\n",
      "{\n",
      "  \"args\": {}, \n",
      "  \"data\": \"\", \n",
      "  \"files\": {}, \n",
      "  \"form\": {\n",
      "    \"Age\": \"82\", \n",
      "    \"Gender\": \"Male\", \n",
      "    \"Name\": \"Sudhanshu Patil\"\n",
      "  }, \n",
      "  \"headers\": {\n",
      "    \"Accept\": \"*/*\", \n",
      "    \"Accept-Encoding\": \"gzip, deflate, br, zstd\", \n",
      "    \"Content-Length\": \"39\", \n",
      "    \"Content-Type\": \"application/x-www-form-urlencoded\", \n",
      "    \"Host\": \"httpbin.org\", \n",
      "    \"User-Agent\": \"Mozilla/5.0 (Windows NT 10.0; Win64; x64) AppleWebKit/537.36 (KHTML, like Gecko) Chrome/128.0.0.0 Safari/537.36\", \n",
      "    \"Username\": \"AAAAAAAAAAAAA\", \n",
      "    \"X-Amzn-Trace-Id\": \"Root=1-66e52b22-6a915d35246404d85eb4e5d1\"\n",
      "  }, \n",
      "  \"json\": null, \n",
      "  \"origin\": \"103.73.214.168\", \n",
      "  \"url\": \"https://httpbin.org/put\"\n",
      "}\n",
      "\n",
      "\n",
      "{'args': {}, 'data': '', 'files': {}, 'form': {'Age': '82', 'Gender': 'Male', 'Name': 'Sudhanshu Patil'}, 'headers': {'Accept': '*/*', 'Accept-Encoding': 'gzip, deflate, br, zstd', 'Content-Length': '39', 'Content-Type': 'application/x-www-form-urlencoded', 'Host': 'httpbin.org', 'User-Agent': 'Mozilla/5.0 (Windows NT 10.0; Win64; x64) AppleWebKit/537.36 (KHTML, like Gecko) Chrome/128.0.0.0 Safari/537.36', 'Username': 'AAAAAAAAAAAAA', 'X-Amzn-Trace-Id': 'Root=1-66e52b22-6a915d35246404d85eb4e5d1'}, 'json': None, 'origin': '103.73.214.168', 'url': 'https://httpbin.org/put'}\n"
     ]
    }
   ],
   "source": [
    "data = {\n",
    "    'Name': 'Sudhanshu Patil',\n",
    "    'Age':'82',\n",
    "    'Gender':'Male'\n",
    "}\n",
    "\n",
    "r = rq.put(url = url, headers = header, data = data)\n",
    "\n",
    "# check status code for response received\n",
    "# success code - 200\n",
    "print(r)\n",
    "print()\n",
    "# print content of request\n",
    "print(r.content)\n",
    "print()\n",
    "# print headers of request\n",
    "print(r.headers)\n",
    "print()\n",
    "print(r.text)\n",
    "print()\n",
    "print(r.json())"
   ]
  },
  {
   "cell_type": "markdown",
   "id": "56217da5-9f54-4551-a7dd-4892b065df34",
   "metadata": {},
   "source": [
    "# Patch\n",
    "PATCH is a request method supported by HTTP used by the World Wide Web. It is used for modify capabilities. The PATCH request only needs to contain the changes to the resource, not the complete resource. This resembles PUT, but the body contains a set of instructions describing how a resource currently residing on the server should be modified to produce a new version. This means that the PATCH body should not just be a modified part of the resource, but in some kind of patch language like JSON Patch or XML Patch. PATCH is neither safe nor idempotent(idempotent:\n",
    "a property of certain operations or API requests, which guarantees that performing the operation multiple times will yield the same result as if it was executed only once.).\n",
    "\n",
    "* Syntax:requests.patch(url, params={key: value}, args)\r\n"
   ]
  },
  {
   "cell_type": "code",
   "execution_count": 6,
   "id": "1780f926-52ff-4139-bf89-aca1fb794aba",
   "metadata": {},
   "outputs": [
    {
     "name": "stdout",
     "output_type": "stream",
     "text": [
      "<Response [200]>\n",
      "\n",
      "b'{\\n  \"args\": {}, \\n  \"data\": \"\", \\n  \"files\": {}, \\n  \"form\": {\\n    \"CITY\": \"NAGPUR\"\\n  }, \\n  \"headers\": {\\n    \"Accept\": \"*/*\", \\n    \"Accept-Encoding\": \"gzip, deflate, br, zstd\", \\n    \"Content-Length\": \"11\", \\n    \"Content-Type\": \"application/x-www-form-urlencoded\", \\n    \"Host\": \"httpbin.org\", \\n    \"User-Agent\": \"Mozilla/5.0 (Windows NT 10.0; Win64; x64) AppleWebKit/537.36 (KHTML, like Gecko) Chrome/128.0.0.0 Safari/537.36\", \\n    \"Userdata\": \"gggggggggggggg\", \\n    \"X-Amzn-Trace-Id\": \"Root=1-66ea6279-04973f374f639ba4276b7b88\"\\n  }, \\n  \"json\": null, \\n  \"origin\": \"45.116.149.234\", \\n  \"url\": \"https://httpbin.org/patch\"\\n}\\n'\n",
      "\n",
      "{'Date': 'Wed, 18 Sep 2024 05:17:45 GMT', 'Content-Type': 'application/json', 'Content-Length': '618', 'Connection': 'keep-alive', 'Server': 'gunicorn/19.9.0', 'Access-Control-Allow-Origin': '*', 'Access-Control-Allow-Credentials': 'true'}\n",
      "\n",
      "{\n",
      "  \"args\": {}, \n",
      "  \"data\": \"\", \n",
      "  \"files\": {}, \n",
      "  \"form\": {\n",
      "    \"CITY\": \"NAGPUR\"\n",
      "  }, \n",
      "  \"headers\": {\n",
      "    \"Accept\": \"*/*\", \n",
      "    \"Accept-Encoding\": \"gzip, deflate, br, zstd\", \n",
      "    \"Content-Length\": \"11\", \n",
      "    \"Content-Type\": \"application/x-www-form-urlencoded\", \n",
      "    \"Host\": \"httpbin.org\", \n",
      "    \"User-Agent\": \"Mozilla/5.0 (Windows NT 10.0; Win64; x64) AppleWebKit/537.36 (KHTML, like Gecko) Chrome/128.0.0.0 Safari/537.36\", \n",
      "    \"Userdata\": \"gggggggggggggg\", \n",
      "    \"X-Amzn-Trace-Id\": \"Root=1-66ea6279-04973f374f639ba4276b7b88\"\n",
      "  }, \n",
      "  \"json\": null, \n",
      "  \"origin\": \"45.116.149.234\", \n",
      "  \"url\": \"https://httpbin.org/patch\"\n",
      "}\n",
      "\n",
      "\n",
      "{'args': {}, 'data': '', 'files': {}, 'form': {'CITY': 'NAGPUR'}, 'headers': {'Accept': '*/*', 'Accept-Encoding': 'gzip, deflate, br, zstd', 'Content-Length': '11', 'Content-Type': 'application/x-www-form-urlencoded', 'Host': 'httpbin.org', 'User-Agent': 'Mozilla/5.0 (Windows NT 10.0; Win64; x64) AppleWebKit/537.36 (KHTML, like Gecko) Chrome/128.0.0.0 Safari/537.36', 'Userdata': 'gggggggggggggg', 'X-Amzn-Trace-Id': 'Root=1-66ea6279-04973f374f639ba4276b7b88'}, 'json': None, 'origin': '45.116.149.234', 'url': 'https://httpbin.org/patch'}\n"
     ]
    }
   ],
   "source": [
    "import requests as rq\n",
    "header1 = {\n",
    "    'user-agent':\n",
    "'Mozilla/5.0 (Windows NT 10.0; Win64; x64) AppleWebKit/537.36 (KHTML, like Gecko) Chrome/128.0.0.0 Safari/537.36',\n",
    "    'userdata':'gggggggggggggg'\n",
    "    }\n",
    "# Making a PATCH request\n",
    "r1 = rq.patch('https://httpbin.org/patch', data ={'CITY':'NAGPUR'}, headers= header1)\n",
    "\n",
    "# check status code for response received\n",
    "# success code - 200\n",
    "print(r1)\n",
    "print()\n",
    "# print content of request\n",
    "print(r1.content)\n",
    "print()\n",
    "print(r1.headers)\n",
    "print()\n",
    "print(r1.text)\n",
    "print()\n",
    "print(r1.json())"
   ]
  },
  {
   "cell_type": "markdown",
   "id": "996803be-a8d8-4069-a5d6-a1eb535cc200",
   "metadata": {},
   "source": [
    "# DELETE Http Method\r\n",
    "DELETE is a request method supported by HTTP used by the World Wide Web. The DELETE method deletes the specified resource. As with a PUT request, you need to specify a particular resource for this operation. A successful response SHOULD be 200 (OK) if the response includes an entity describing the status, 202 (Accepted) if the action has not yet been enacted, or 204 (No Content) if the action has been enacted but the response does not include an entity.\r\n",
    "An example URI looks like for delete operation"
   ]
  },
  {
   "cell_type": "code",
   "execution_count": 64,
   "id": "c9f86549-970a-4444-af86-ec89c9548ea3",
   "metadata": {},
   "outputs": [
    {
     "name": "stdout",
     "output_type": "stream",
     "text": [
      "Resource deleted successfully!\n",
      "{'args': {}, 'data': '', 'files': {}, 'form': {}, 'headers': {'Accept': '*/*', 'Accept-Encoding': 'gzip, deflate, br, zstd', 'Authorization': 'Bearer some_auth_token', 'Content-Length': '0', 'Host': 'httpbin.org', 'User-Agent': 'Mozilla/5.0 (Windows NT 10.0; Win64; x64)', 'X-Amzn-Trace-Id': 'Root=1-66e53a5d-19ec741006bae40551082296'}, 'json': None, 'origin': '103.73.214.168', 'url': 'https://httpbin.org/delete'}\n"
     ]
    }
   ],
   "source": [
    "import requests as rq\n",
    "\n",
    "# Define the URL for the DELETE request\n",
    "url3 = 'https://httpbin.org/delete'\n",
    "\n",
    "# Define headers (optional, but typically includes auth or user-agent info)\n",
    "headers3 = {\n",
    "    'User-Agent': 'Mozilla/5.0 (Windows NT 10.0; Win64; x64)',\n",
    "    'Authorization': 'Bearer some_auth_token'  # If authentication is needed\n",
    "}\n",
    "\n",
    "# Make the DELETE request\n",
    "response = rq.delete(url3, headers=headers3)\n",
    "\n",
    "# Check if the request was successful\n",
    "if response.status_code == 200:\n",
    "    print(\"Resource deleted successfully!\")\n",
    "else:\n",
    "    print(f\"Failed with status code: {response.status_code}\")\n",
    "\n",
    "# Print the response content\n",
    "print(response.json())  # Will return the server's response, often metadata or confirmation\n"
   ]
  },
  {
   "cell_type": "markdown",
   "id": "a7269599-e04e-48b0-ac48-88fef56b3210",
   "metadata": {},
   "source": [
    "# GET Http Method\r\n",
    "The GET method is used to retrieve information from the given server using a given URL. The GET method sends the encoded user information appended to the page request. The page and the encoded information are separated by the ‘?’ character"
   ]
  },
  {
   "cell_type": "code",
   "execution_count": 71,
   "id": "25de106e-5cb1-4e2b-be61-542b5e7e56c6",
   "metadata": {},
   "outputs": [
    {
     "name": "stdout",
     "output_type": "stream",
     "text": [
      "<Response [200]>\n",
      "b'{\"login\":\"sudhanshu\",\"id\":199686,\"node_id\":\"MDQ6VXNlcjE5OTY4Ng==\",\"avatar_url\":\"https://avatars.githubusercontent.com/u/199686?v=4\",\"gravatar_id\":\"\",\"url\":\"https://api.github.com/users/sudhanshu\",\"html_url\":\"https://github.com/sudhanshu\",\"followers_url\":\"https://api.github.com/users/sudhanshu/followers\",\"following_url\":\"https://api.github.com/users/sudhanshu/following{/other_user}\",\"gists_url\":\"https://api.github.com/users/sudhanshu/gists{/gist_id}\",\"starred_url\":\"https://api.github.com/users/sudhanshu/starred{/owner}{/repo}\",\"subscriptions_url\":\"https://api.github.com/users/sudhanshu/subscriptions\",\"organizations_url\":\"https://api.github.com/users/sudhanshu/orgs\",\"repos_url\":\"https://api.github.com/users/sudhanshu/repos\",\"events_url\":\"https://api.github.com/users/sudhanshu/events{/privacy}\",\"received_events_url\":\"https://api.github.com/users/sudhanshu/received_events\",\"type\":\"User\",\"site_admin\":false,\"name\":\"sudhanshu\",\"company\":null,\"blog\":\"\",\"location\":null,\"email\":null,\"hireable\":null,\"bio\":null,\"twitter_username\":null,\"public_repos\":0,\"public_gists\":0,\"followers\":3,\"following\":0,\"created_at\":\"2010-02-08T17:20:04Z\",\"updated_at\":\"2020-07-22T08:37:41Z\"}'\n"
     ]
    }
   ],
   "source": [
    "import requests\n",
    "\n",
    "# Making a GET request\n",
    "r = requests.get('https://api.github.com/users/Sudhanshu')\n",
    "\n",
    "# check status code for response received\n",
    "# success code - 200\n",
    "print(r)\n",
    "\n",
    "# print content of request\n",
    "print(r.content)\n"
   ]
  },
  {
   "cell_type": "markdown",
   "id": "c80d14b1-a7a4-4db7-a119-7b3eb4c778d1",
   "metadata": {},
   "source": [
    "# POST Http Method\r\n",
    "POST is a request method supported by HTTP used by the World Wide Web. By design, the POST request method requests that a web server accepts the data enclosed in the body of the request message, most likely for storing it. It is often used when uploading a file or when submitting a completed web form. "
   ]
  },
  {
   "cell_type": "code",
   "execution_count": 76,
   "id": "db7e9888-aba0-41fe-876b-a100fd8f61f8",
   "metadata": {},
   "outputs": [
    {
     "name": "stdout",
     "output_type": "stream",
     "text": [
      "<Response [200]>\n",
      "{'args': {}, 'data': '', 'files': {}, 'form': {'key11111111': 'value11111111111'}, 'headers': {'Accept': '*/*', 'Accept-Encoding': 'gzip, deflate, br, zstd', 'Content-Length': '28', 'Content-Type': 'application/x-www-form-urlencoded', 'Host': 'httpbin.org', 'User-Agent': 'python-requests/2.32.2', 'X-Amzn-Trace-Id': 'Root=1-66e53afd-4fe1125c522cf40842aeaf6c'}, 'json': None, 'origin': '103.73.214.168', 'url': 'https://httpbin.org/post'}\n"
     ]
    }
   ],
   "source": [
    "import requests\n",
    "\n",
    "# Making a POST request\n",
    "r = requests.post('https://httpbin.org/post', data ={'key11111111':'value11111111111'})\n",
    "\n",
    "# check status code for response received\n",
    "# success code - 200\n",
    "print(r)\n",
    "\n",
    "# print content of request\n",
    "print(r.json())\n"
   ]
  },
  {
   "cell_type": "code",
   "execution_count": null,
   "id": "8f22a363-de1d-4744-aa3a-8d6e9cd0b3fa",
   "metadata": {},
   "outputs": [],
   "source": []
  }
 ],
 "metadata": {
  "kernelspec": {
   "display_name": "Python 3 (ipykernel)",
   "language": "python",
   "name": "python3"
  },
  "language_info": {
   "codemirror_mode": {
    "name": "ipython",
    "version": 3
   },
   "file_extension": ".py",
   "mimetype": "text/x-python",
   "name": "python",
   "nbconvert_exporter": "python",
   "pygments_lexer": "ipython3",
   "version": "3.12.4"
  }
 },
 "nbformat": 4,
 "nbformat_minor": 5
}
